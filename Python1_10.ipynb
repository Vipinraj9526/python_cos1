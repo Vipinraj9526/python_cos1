{
  "nbformat": 4,
  "nbformat_minor": 0,
  "metadata": {
    "colab": {
      "name": "Python1-10.ipynb",
      "provenance": [],
      "collapsed_sections": [],
      "authorship_tag": "ABX9TyNL21NSNonIwSa4QFOkayoU",
      "include_colab_link": true
    },
    "kernelspec": {
      "name": "python3",
      "display_name": "Python 3"
    }
  },
  "cells": [
    {
      "cell_type": "markdown",
      "metadata": {
        "id": "view-in-github",
        "colab_type": "text"
      },
      "source": [
        "<a href=\"https://colab.research.google.com/github/Vipinraj9526/python_cos1/blob/main/Python1_10.ipynb\" target=\"_parent\"><img src=\"https://colab.research.google.com/assets/colab-badge.svg\" alt=\"Open In Colab\"/></a>"
      ]
    },
    {
      "cell_type": "code",
      "metadata": {
        "colab": {
          "base_uri": "https://localhost:8080/"
        },
        "id": "25NUEstaL_MI",
        "outputId": "53dd0bd2-3cbe-46b6-b758-ff72684b83ec"
      },
      "source": [
        "#2.Display future leap year from current year to a final year entered by user\n",
        "\n",
        "y1=int(input(\"Enter the current year:\"))\n",
        "y2=int(input(\"Enter the last year:\"))\n",
        "for x in range(y1,y2+1):\n",
        "   if x%4==0 and x%100!=0 or x%400==0:\n",
        "      print(x)"
      ],
      "execution_count": null,
      "outputs": [
        {
          "output_type": "stream",
          "text": [
            "Enter the current year:2021\n",
            "Enter the last year:2035\n",
            "2024\n",
            "2028\n",
            "2032\n"
          ],
          "name": "stdout"
        }
      ]
    },
    {
      "cell_type": "code",
      "metadata": {
        "colab": {
          "base_uri": "https://localhost:8080/"
        },
        "id": "xu3NM4oKMZSh",
        "outputId": "0ca23d0b-dc3f-45ed-9453-6324bddaba63"
      },
      "source": [
        "# 3.List comprehensions: \n",
        "# (a)Generate positive list of numbers from a given list of integers \n",
        "\n",
        "num=[-7,20,-5,4,5,-4,6,0,8]\n",
        "positive=[x for x in num if x > 0]\n",
        "print(\"Positive Integers\",positive)\n",
        "\n",
        "# (b)Square of N numbers \n",
        "\n",
        "n=int(input(\"Enter the limit to get square:\"))\n",
        "square=[x*x for x in range(1,n+1)]\n",
        "print(\"Square of element\",square)\n",
        "\n",
        "# (c)Form a list of vowels selected from a given word\n",
        "\n",
        "word=\"aeroplane\"\n",
        "vowels=\"aeiou\"\n",
        "newlist=[x for x in word if x in vowels]\n",
        "print(newlist)"
      ],
      "execution_count": null,
      "outputs": [
        {
          "output_type": "stream",
          "text": [
            "Positive Integers [20, 4, 5, 6, 8]\n",
            "Enter the limit to get square:10\n",
            "Square of element [1, 4, 9, 16, 25, 36, 49, 64, 81, 100]\n",
            "['a', 'e', 'o', 'a', 'e']\n"
          ],
          "name": "stdout"
        }
      ]
    },
    {
      "cell_type": "code",
      "metadata": {
        "colab": {
          "base_uri": "https://localhost:8080/"
        },
        "id": "a3vr_4mHMi8c",
        "outputId": "7610771a-a7f5-4924-c31e-add143dfe882"
      },
      "source": [
        "#4.Count the occurence of each word in a line of text.\n",
        "a=str(input(\"Enter the words:\"))\n",
        "cd=dict()\n",
        "words=a.split()\n",
        "print(words)\n",
        "for x in words:\n",
        "  if x in cd:\n",
        "    cd[x]=cd[x]+1\n",
        "  else:\n",
        "    cd[x]=1\n",
        "print(cd)"
      ],
      "execution_count": null,
      "outputs": [
        {
          "output_type": "stream",
          "text": [
            "Enter the words:abcd bbb cvc  abcd abc abk abcd\n",
            "['abcd', 'bbb', 'cvc', 'abcd', 'abc', 'abk', 'abcd']\n",
            "{'abcd': 3, 'bbb': 1, 'cvc': 1, 'abc': 1, 'abk': 1}\n"
          ],
          "name": "stdout"
        }
      ]
    },
    {
      "cell_type": "code",
      "metadata": {
        "colab": {
          "base_uri": "https://localhost:8080/"
        },
        "id": "YZHABsUPMmQz",
        "outputId": "2997b703-6759-45b6-fde3-aa08327e8fcc"
      },
      "source": [
        "#5.Prompt the user for a list integers.For all value grater than 100,store'over' instead.\n",
        "\n",
        "list=[]\n",
        "a=int(input(\"Enter the no of values to be inserted:\"))\n",
        "for x in range(a):\n",
        "   n=int(input(\"Enter the value\"))\n",
        "   if n<=100:\n",
        "      list.append(n)\n",
        "   else:\n",
        "       list.append('over')\n",
        "print(list)"
      ],
      "execution_count": null,
      "outputs": [
        {
          "output_type": "stream",
          "text": [
            "Enter the no of values to be inserted:5\n",
            "Enter the value10\n",
            "Enter the value20\n",
            "Enter the value101\n",
            "Enter the value100\n",
            "Enter the value20\n",
            "[10, 20, 'over', 100, 20]\n"
          ],
          "name": "stdout"
        }
      ]
    },
    {
      "cell_type": "code",
      "metadata": {
        "colab": {
          "base_uri": "https://localhost:8080/"
        },
        "id": "ujiq6OG1MpgL",
        "outputId": "4b552190-fa0b-4253-eb64-beb9527a3595"
      },
      "source": [
        "#6 Store a list of first names. Count the occurrences of ‘a’ within the list\n",
        " \n",
        "li=[]\n",
        "c=0\n",
        "n=int(input(\"Enter no.of names:\"))\n",
        "for x in range (n):\n",
        "   name=input(\"enter first names:\")\n",
        "   li.append(name)\n",
        "for x in li:\n",
        "   for y in x:\n",
        "     if 'a' in y:\n",
        "       c=c+1\n",
        "print(\"number of 'a' is:\",c)"
      ],
      "execution_count": null,
      "outputs": [
        {
          "output_type": "stream",
          "text": [
            "Enter no.of names:3\n",
            "enter first names:akin\n",
            "enter first names:aswin\n",
            "enter first names:vipin\n",
            "number of 'a' is: 2\n"
          ],
          "name": "stdout"
        }
      ]
    },
    {
      "cell_type": "code",
      "metadata": {
        "id": "0phyRkJEMw7v"
      },
      "source": [
        "#7 Enter 2 lists of integers. Check (a) Whether list are of same length (b) whether list sums to same value (c) whether any value occur in both \n",
        "\n",
        "l1 = [50,30,52,70,20]\n",
        "l2 = [12,20,12,52,22,63]\n",
        "print(\"length of list1:\",len(l1))\n",
        "print(\"length of list1:\",len(l2))\n",
        "total = sum(l1)\n",
        "print(\"sum of the list1:\", total)\n",
        "total = sum(l2)\n",
        "print(\"sum of the list2:\", total)\n",
        "print(\"commen values:\")\n",
        "for i in l1:\n",
        "    if i in l2:\n",
        "        print(i)\n"
      ],
      "execution_count": null,
      "outputs": []
    },
    {
      "cell_type": "code",
      "metadata": {
        "colab": {
          "base_uri": "https://localhost:8080/"
        },
        "id": "E8n3Fce7M2H9",
        "outputId": "d8cfe834-4dbb-457b-a0f8-874f2a44908a"
      },
      "source": [
        "#8.Get a string from an input string where all occurence of first  charater replaced with '$',expect first charater.\n",
        "s=str(input(\"Enter the string:\"))\n",
        "a=s[0]\n",
        "l=len(s)\n",
        "if a in s:\n",
        "   s=s.replace(a,\"$\")\n",
        "print(a+s[1:l])"
      ],
      "execution_count": null,
      "outputs": [
        {
          "output_type": "stream",
          "text": [
            "Enter the string:onion\n",
            "oni$n\n"
          ],
          "name": "stdout"
        }
      ]
    },
    {
      "cell_type": "code",
      "metadata": {
        "colab": {
          "base_uri": "https://localhost:8080/"
        },
        "id": "ZLkvgkPmM33p",
        "outputId": "963db701-2b6b-4c2b-e8d1-3b31ee0797b0"
      },
      "source": [
        "#9. Create a string from given string where first and last characters exchanged.   [eg: python -> nythop] \n",
        "\n",
        "str = input(\"Enter a string:\")\n",
        "print(\"Entered string:\", str)\n",
        "print(str[-1] + str[1:-1] + str[0])"
      ],
      "execution_count": null,
      "outputs": [
        {
          "output_type": "stream",
          "text": [
            "Enter a string:python\n",
            "Entered string: python\n",
            "nythop\n"
          ],
          "name": "stdout"
        }
      ]
    },
    {
      "cell_type": "code",
      "metadata": {
        "colab": {
          "base_uri": "https://localhost:8080/"
        },
        "id": "MY97xXfuM8c3",
        "outputId": "20dbcf0d-e657-4897-9ecf-77c74d471e9d"
      },
      "source": [
        "#10.Accept the radius from user and find area of circle.\n",
        "r=int(input(\"Enter the radius\"))\n",
        "area=3.14*r*r\n",
        "print(area)"
      ],
      "execution_count": null,
      "outputs": [
        {
          "output_type": "stream",
          "text": [
            "Enter the radius3\n",
            "28.259999999999998\n"
          ],
          "name": "stdout"
        }
      ]
    }
  ]
}